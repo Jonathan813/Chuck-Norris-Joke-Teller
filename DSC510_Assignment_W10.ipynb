{
 "cells": [
  {
   "cell_type": "markdown",
   "metadata": {},
   "source": [
    "## 10.1 Assignment: Exceptions and Testing"
   ]
  },
  {
   "cell_type": "markdown",
   "metadata": {},
   "source": [
    "<p>File: Week 10 Assignment: Exceptions and Testing.ipynb\n",
    "<p>Name: Jonathan Lawrence</p>\n",
    "<p>Date: 2/08/2019</p>\n",
    "<p>Course DSC510 - Intro to Programming\n",
    "<p>Desc: This program will use an open API to obtain data for the end user."
   ]
  },
  {
   "cell_type": "markdown",
   "metadata": {},
   "source": [
    "Create a program which makes a GET request of the following API: Chuck Norris Jokes.\n",
    "The program will receive a JSON response which includes various pieces of data. You should parse the JSON data to obtain the “value” key. The data associated with the value key should be displayed for the user (i.e the joke).\n",
    "Your program should allow the user to request a Chuck Norris joke as many times as they would like. You should make sure that your program does error checking at this point. If you ask the user to enter “Y” and they enter y, is that ok? Does it fail? If it fails, display a message for the user. There are other ways to handle this. Think about included string functions you might be able to call.\n",
    "Your program must include a header as in previous weeks.\n",
    "Your program must include a welcome message for the user.\n",
    "Your program must generate “pretty” output. Simply dumping a bunch of data to the screen with no context doesn’t represent “pretty.”"
   ]
  },
  {
   "cell_type": "code",
   "execution_count": 1,
   "metadata": {
    "scrolled": true
   },
   "outputs": [],
   "source": [
    "# 200 -- everything went okay, and the result has been returned (if any)\n",
    "import requests\n",
    "import json\n",
    "\n",
    "def main():\n",
    "    firstWelcome = input(\"Welcome! Would you like to hear a Chuck Norris joke?\\n'Y' = Yes\\n'N' = No.\\n\\n\")\n",
    "    if firstWelcome == \"Y\":\n",
    "        firstJoke()\n",
    "        nextJoke()\n",
    "    elif firstWelcome ==\"N\":\n",
    "        print(\"Goodbye!\")\n",
    "    else:\n",
    "        print(\"\\nERROR: Please enter only 'Y' or 'N'!\")\n",
    "        main()\n",
    "    return\n",
    "\n",
    "def firstJoke():\n",
    "    # sending get request and saving the response as response object\n",
    "    response = requests.get(\"https://api.chucknorris.io/jokes/random\")\n",
    "    #print(\"Response code: {}\".format(response.status_code))\n",
    "\n",
    "    # Print the content of the response (the data the server returned)\n",
    "    itemized_bytes = response.content\n",
    "    #print(\"\\nContent: {}\\n\\n{}\".format(type(itemized_bytes), itemized_bytes))\n",
    "\n",
    "    # Get the response data as a python object.  Verify that it's a dictionary. \n",
    "    itemized_json = response.json()\n",
    "    #print(\"\\nContent: {}\\n\\n{}\".format(type(itemized_json), itemized_json))\n",
    "\n",
    "    # dumps -- Takes in a Python object, and converts it to a string.\n",
    "    itemized_json_string = json.dumps(itemized_json)\n",
    "    #print(\"\\nContent (string):\\n\\n{}\".format(itemized_json_string))\n",
    "\n",
    "    # loads -- Takes a JSON string, and converts it to a Python object.\n",
    "    d = json.loads(itemized_json_string)\n",
    "    print(\"\\n{}\\n\".format(d[\"value\"]))\n",
    "\n",
    "    #for eachItem in d.items():\n",
    "    #    print(eachItem)\n",
    "    return\n",
    "\n",
    "def nextJoke():\n",
    "    nextWelcome = input(\"Would you like to hear another joke?\\n'Y' = Yes\\n'N' = No.\\n\\n\")\n",
    "    if nextWelcome == \"Y\":\n",
    "        firstJoke()\n",
    "        nextJoke()\n",
    "    elif nextWelcome ==\"N\":\n",
    "        print(\"Goodbye!\")\n",
    "    else:\n",
    "        print(\"\\nERROR: Please enter only 'Y' or 'N'!\")\n",
    "        nextJoke()\n",
    "    return\n",
    "        "
   ]
  },
  {
   "cell_type": "code",
   "execution_count": null,
   "metadata": {},
   "outputs": [
    {
     "name": "stdout",
     "output_type": "stream",
     "text": [
      "Welcome! Would you like to hear a Chuck Norris joke?\n",
      "'Y' = Yes\n",
      "'N' = No.\n",
      "\n",
      "Y\n",
      "\n",
      "Once again, Chuck Norris allows the skinny black guy to pretend that he's running America for another four years.\n",
      "\n"
     ]
    }
   ],
   "source": [
    "main()"
   ]
  },
  {
   "cell_type": "code",
   "execution_count": null,
   "metadata": {},
   "outputs": [],
   "source": []
  }
 ],
 "metadata": {
  "kernelspec": {
   "display_name": "Python 3",
   "language": "python",
   "name": "python3"
  },
  "language_info": {
   "codemirror_mode": {
    "name": "ipython",
    "version": 3
   },
   "file_extension": ".py",
   "mimetype": "text/x-python",
   "name": "python",
   "nbconvert_exporter": "python",
   "pygments_lexer": "ipython3",
   "version": "3.7.0"
  }
 },
 "nbformat": 4,
 "nbformat_minor": 2
}
